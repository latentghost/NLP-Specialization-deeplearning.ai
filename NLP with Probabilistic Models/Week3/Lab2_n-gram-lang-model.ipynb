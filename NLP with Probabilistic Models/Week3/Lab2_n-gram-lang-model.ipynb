{
 "cells": [
  {
   "cell_type": "code",
   "execution_count": 1,
   "metadata": {},
   "outputs": [
    {
     "name": "stdout",
     "output_type": "stream",
     "text": [
      "n-gram ('i', 'am', 'learning') missing\n",
      "n-gram ('i', 'am', 'learning') found\n"
     ]
    }
   ],
   "source": [
    "n_gram_counts = {\n",
    "    ('i', 'am', 'happy'): 2,\n",
    "    ('am', 'happy', 'because'): 1}\n",
    "\n",
    "if ('i', 'am', 'learning') in n_gram_counts:\n",
    "    print(f\"n-gram {('i', 'am', 'learning')} found\")\n",
    "else:\n",
    "    print(f\"n-gram {('i', 'am', 'learning')} missing\")\n",
    "\n",
    "n_gram_counts[('i', 'am', 'learning')] = 1\n",
    "if ('i', 'am', 'learning') in n_gram_counts:\n",
    "    print(f\"n-gram {('i', 'am', 'learning')} found\")\n",
    "else:\n",
    "    print(f\"n-gram {('i', 'am', 'learning')} missing\")"
   ]
  },
  {
   "cell_type": "code",
   "execution_count": 2,
   "metadata": {},
   "outputs": [
    {
     "name": "stdout",
     "output_type": "stream",
     "text": [
      "('i', 'am', 'happy', 'because')\n"
     ]
    }
   ],
   "source": [
    "# Merging tuple\n",
    "prefix = ('i', 'am', 'happy')\n",
    "word = 'because'\n",
    "\n",
    "merged = prefix + (word,)\n",
    "print(merged)"
   ]
  },
  {
   "cell_type": "code",
   "execution_count": 3,
   "metadata": {},
   "outputs": [],
   "source": [
    "import numpy as np\n",
    "import pandas as pd\n",
    "from collections import defaultdict"
   ]
  },
  {
   "cell_type": "code",
   "execution_count": 6,
   "metadata": {},
   "outputs": [],
   "source": [
    "def single_pass_trigram_count_matrix(corpus):\n",
    "    # corpus is a pre-processed and tokenized corpus\n",
    "    bigrams = []\n",
    "    vocab = []\n",
    "    count_matrix_d = defaultdict(dict)\n",
    "\n",
    "    for i in range(len(corpus)-2):\n",
    "        trigram = tuple(corpus[i:i+3])\n",
    "        bigram = tuple(corpus[i:i+2])\n",
    "\n",
    "        if not bigram in bigrams:\n",
    "            bigrams.append(bigram)\n",
    "        \n",
    "        last_word = trigram[-1]\n",
    "        if not last_word in vocab:\n",
    "            vocab.append(last_word)\n",
    "        \n",
    "        if (bigram,last_word) not in count_matrix_d:\n",
    "            count_matrix_d[(bigram,last_word)] = 0\n",
    "        count_matrix_d[(bigram,last_word)]+=1\n",
    "\n",
    "    count_matrix = np.zeros((len(bigrams),len(vocab)))\n",
    "    for key,val in count_matrix_d.items():\n",
    "        count_matrix[bigrams.index(key[0]),vocab.index(key[1])] = val\n",
    "    \n",
    "    count_matrix = pd.DataFrame(count_matrix,index=bigrams,columns=vocab)\n",
    "    return bigrams, vocab, count_matrix"
   ]
  },
  {
   "cell_type": "code",
   "execution_count": 7,
   "metadata": {},
   "outputs": [],
   "source": [
    "corpus = ['i','am','happy','because','i','am','learning','.']\n",
    "bigrams,vocab,count_mat = single_pass_trigram_count_matrix(corpus)"
   ]
  },
  {
   "cell_type": "code",
   "execution_count": 8,
   "metadata": {},
   "outputs": [
    {
     "data": {
      "text/html": [
       "<div>\n",
       "<style scoped>\n",
       "    .dataframe tbody tr th:only-of-type {\n",
       "        vertical-align: middle;\n",
       "    }\n",
       "\n",
       "    .dataframe tbody tr th {\n",
       "        vertical-align: top;\n",
       "    }\n",
       "\n",
       "    .dataframe thead th {\n",
       "        text-align: right;\n",
       "    }\n",
       "</style>\n",
       "<table border=\"1\" class=\"dataframe\">\n",
       "  <thead>\n",
       "    <tr style=\"text-align: right;\">\n",
       "      <th></th>\n",
       "      <th>happy</th>\n",
       "      <th>because</th>\n",
       "      <th>i</th>\n",
       "      <th>am</th>\n",
       "      <th>learning</th>\n",
       "      <th>.</th>\n",
       "    </tr>\n",
       "  </thead>\n",
       "  <tbody>\n",
       "    <tr>\n",
       "      <th>(i, am)</th>\n",
       "      <td>1.0</td>\n",
       "      <td>0.0</td>\n",
       "      <td>0.0</td>\n",
       "      <td>0.0</td>\n",
       "      <td>1.0</td>\n",
       "      <td>0.0</td>\n",
       "    </tr>\n",
       "    <tr>\n",
       "      <th>(am, happy)</th>\n",
       "      <td>0.0</td>\n",
       "      <td>1.0</td>\n",
       "      <td>0.0</td>\n",
       "      <td>0.0</td>\n",
       "      <td>0.0</td>\n",
       "      <td>0.0</td>\n",
       "    </tr>\n",
       "    <tr>\n",
       "      <th>(happy, because)</th>\n",
       "      <td>0.0</td>\n",
       "      <td>0.0</td>\n",
       "      <td>1.0</td>\n",
       "      <td>0.0</td>\n",
       "      <td>0.0</td>\n",
       "      <td>0.0</td>\n",
       "    </tr>\n",
       "    <tr>\n",
       "      <th>(because, i)</th>\n",
       "      <td>0.0</td>\n",
       "      <td>0.0</td>\n",
       "      <td>0.0</td>\n",
       "      <td>1.0</td>\n",
       "      <td>0.0</td>\n",
       "      <td>0.0</td>\n",
       "    </tr>\n",
       "    <tr>\n",
       "      <th>(am, learning)</th>\n",
       "      <td>0.0</td>\n",
       "      <td>0.0</td>\n",
       "      <td>0.0</td>\n",
       "      <td>0.0</td>\n",
       "      <td>0.0</td>\n",
       "      <td>1.0</td>\n",
       "    </tr>\n",
       "  </tbody>\n",
       "</table>\n",
       "</div>"
      ],
      "text/plain": [
       "                  happy  because    i   am  learning    .\n",
       "(i, am)             1.0      0.0  0.0  0.0       1.0  0.0\n",
       "(am, happy)         0.0      1.0  0.0  0.0       0.0  0.0\n",
       "(happy, because)    0.0      0.0  1.0  0.0       0.0  0.0\n",
       "(because, i)        0.0      0.0  0.0  1.0       0.0  0.0\n",
       "(am, learning)      0.0      0.0  0.0  0.0       0.0  1.0"
      ]
     },
     "execution_count": 8,
     "metadata": {},
     "output_type": "execute_result"
    }
   ],
   "source": [
    "count_mat"
   ]
  },
  {
   "cell_type": "code",
   "execution_count": 11,
   "metadata": {},
   "outputs": [],
   "source": [
    "rowsums = np.sum(count_mat,axis=1)\n",
    "prob_mat = count_mat.div(rowsums,axis=0)"
   ]
  },
  {
   "cell_type": "code",
   "execution_count": 12,
   "metadata": {},
   "outputs": [
    {
     "data": {
      "text/html": [
       "<div>\n",
       "<style scoped>\n",
       "    .dataframe tbody tr th:only-of-type {\n",
       "        vertical-align: middle;\n",
       "    }\n",
       "\n",
       "    .dataframe tbody tr th {\n",
       "        vertical-align: top;\n",
       "    }\n",
       "\n",
       "    .dataframe thead th {\n",
       "        text-align: right;\n",
       "    }\n",
       "</style>\n",
       "<table border=\"1\" class=\"dataframe\">\n",
       "  <thead>\n",
       "    <tr style=\"text-align: right;\">\n",
       "      <th></th>\n",
       "      <th>happy</th>\n",
       "      <th>because</th>\n",
       "      <th>i</th>\n",
       "      <th>am</th>\n",
       "      <th>learning</th>\n",
       "      <th>.</th>\n",
       "    </tr>\n",
       "  </thead>\n",
       "  <tbody>\n",
       "    <tr>\n",
       "      <th>(i, am)</th>\n",
       "      <td>0.5</td>\n",
       "      <td>0.0</td>\n",
       "      <td>0.0</td>\n",
       "      <td>0.0</td>\n",
       "      <td>0.5</td>\n",
       "      <td>0.0</td>\n",
       "    </tr>\n",
       "    <tr>\n",
       "      <th>(am, happy)</th>\n",
       "      <td>0.0</td>\n",
       "      <td>1.0</td>\n",
       "      <td>0.0</td>\n",
       "      <td>0.0</td>\n",
       "      <td>0.0</td>\n",
       "      <td>0.0</td>\n",
       "    </tr>\n",
       "    <tr>\n",
       "      <th>(happy, because)</th>\n",
       "      <td>0.0</td>\n",
       "      <td>0.0</td>\n",
       "      <td>1.0</td>\n",
       "      <td>0.0</td>\n",
       "      <td>0.0</td>\n",
       "      <td>0.0</td>\n",
       "    </tr>\n",
       "    <tr>\n",
       "      <th>(because, i)</th>\n",
       "      <td>0.0</td>\n",
       "      <td>0.0</td>\n",
       "      <td>0.0</td>\n",
       "      <td>1.0</td>\n",
       "      <td>0.0</td>\n",
       "      <td>0.0</td>\n",
       "    </tr>\n",
       "    <tr>\n",
       "      <th>(am, learning)</th>\n",
       "      <td>0.0</td>\n",
       "      <td>0.0</td>\n",
       "      <td>0.0</td>\n",
       "      <td>0.0</td>\n",
       "      <td>0.0</td>\n",
       "      <td>1.0</td>\n",
       "    </tr>\n",
       "  </tbody>\n",
       "</table>\n",
       "</div>"
      ],
      "text/plain": [
       "                  happy  because    i   am  learning    .\n",
       "(i, am)             0.5      0.0  0.0  0.0       0.5  0.0\n",
       "(am, happy)         0.0      1.0  0.0  0.0       0.0  0.0\n",
       "(happy, because)    0.0      0.0  1.0  0.0       0.0  0.0\n",
       "(because, i)        0.0      0.0  0.0  1.0       0.0  0.0\n",
       "(am, learning)      0.0      0.0  0.0  0.0       0.0  1.0"
      ]
     },
     "execution_count": 12,
     "metadata": {},
     "output_type": "execute_result"
    }
   ],
   "source": [
    "prob_mat"
   ]
  },
  {
   "cell_type": "code",
   "execution_count": 16,
   "metadata": {},
   "outputs": [
    {
     "data": {
      "text/plain": [
       "0.5"
      ]
     },
     "execution_count": 16,
     "metadata": {},
     "output_type": "execute_result"
    }
   ],
   "source": [
    "trigram = ('i','am','happy')\n",
    "bigram,word = trigram[:-1],trigram[-1]\n",
    "prob = prob_mat[word][bigram]\n",
    "prob"
   ]
  },
  {
   "cell_type": "code",
   "execution_count": 17,
   "metadata": {},
   "outputs": [
    {
     "name": "stdout",
     "output_type": "stream",
     "text": [
      "happy\n",
      "have\n"
     ]
    }
   ],
   "source": [
    "vocabulary = ['i', 'am', 'happy', 'because', 'learning', '.', 'have', 'you', 'seen','it', '?']\n",
    "starts_with = 'ha'\n",
    "\n",
    "for word in vocabulary:\n",
    "    if word.startswith(starts_with):\n",
    "        print(word)"
   ]
  },
  {
   "cell_type": "code",
   "execution_count": 21,
   "metadata": {},
   "outputs": [],
   "source": [
    "import random\n",
    "def train_val_test_split(data,train_percent,val_percent):\n",
    "    random.seed(21)\n",
    "    random.shuffle(data)\n",
    "\n",
    "    train_data = data[:int(len(data)*train_percent/100)]\n",
    "    val_data = data[int(len(data)*train_percent/100):int(len(data)*(train_percent+val_percent)/100)]\n",
    "    test_data = data[int(len(data)*(train_percent+val_percent)/100):]\n",
    "\n",
    "    return train_data,val_data,test_data"
   ]
  },
  {
   "cell_type": "code",
   "execution_count": 22,
   "metadata": {},
   "outputs": [
    {
     "name": "stdout",
     "output_type": "stream",
     "text": [
      "split 80/10/10:\n",
      " train data: [18, 96, 41, 93, 7, 90, 40, 92, 91, 45, 4, 29, 94, 42, 23, 21, 80, 34, 95, 77, 50, 86, 81, 97, 88, 59, 35, 17, 69, 63, 33, 27, 83, 76, 46, 25, 39, 49, 58, 8, 74, 38, 51, 44, 14, 13, 73, 71, 87, 67, 72, 98, 10, 32, 26, 100, 47, 36, 11, 78, 85, 60, 52, 16, 12, 20, 3, 84, 15, 64, 70, 43, 5, 57, 53, 56, 6, 79, 30, 19]\n",
      " validation data: [9, 55, 75, 48, 2, 1, 31, 68, 65, 24]\n",
      " test data: [66, 61, 28, 62, 37, 82, 99, 89, 54, 22]\n",
      "\n",
      "split 98/1/1:\n",
      " train data: [34, 82, 74, 28, 40, 24, 8, 61, 66, 14, 93, 69, 62, 38, 81, 50, 19, 76, 37, 6, 67, 1, 9, 99, 68, 11, 46, 80, 15, 52, 83, 35, 75, 56, 13, 88, 58, 87, 36, 92, 57, 49, 72, 44, 42, 94, 5, 70, 31, 3, 43, 89, 45, 27, 59, 22, 73, 25, 4, 79, 2, 78, 98, 21, 29, 77, 41, 48, 23, 16, 64, 51, 7, 47, 10, 100, 90, 30, 63, 95, 91, 26, 53, 71, 96, 18, 33, 84, 12, 97, 20, 85, 17, 60, 39, 55, 54, 65]\n",
      " validation data: [32]\n",
      " test data: [86]\n",
      "\n"
     ]
    }
   ],
   "source": [
    "data = [x for x in range(1,101)]\n",
    "train_data, validation_data, test_data = train_val_test_split(data, 80, 10)\n",
    "print(\"split 80/10/10:\\n\",f\"train data: {train_data}\\n\", f\"validation data: {validation_data}\\n\", \n",
    "      f\"test data: {test_data}\\n\")\n",
    "\n",
    "train_data, validation_data, test_data = train_val_test_split(data, 98, 1)\n",
    "print(\"split 98/1/1:\\n\",f\"train data: {train_data}\\n\", f\"validation data: {validation_data}\\n\", \n",
    "      f\"test data: {test_data}\\n\")"
   ]
  },
  {
   "cell_type": "code",
   "execution_count": 25,
   "metadata": {},
   "outputs": [
    {
     "data": {
      "text/plain": [
       "316.22776601683796"
      ]
     },
     "execution_count": 25,
     "metadata": {},
     "output_type": "execute_result"
    }
   ],
   "source": [
    "# Perplexity example\n",
    "p = 10 ** (-250)\n",
    "M = 100\n",
    "perplexity = p ** (-1 / M)\n",
    "perplexity"
   ]
  }
 ],
 "metadata": {
  "kernelspec": {
   "display_name": "Python 3",
   "language": "python",
   "name": "python3"
  },
  "language_info": {
   "codemirror_mode": {
    "name": "ipython",
    "version": 3
   },
   "file_extension": ".py",
   "mimetype": "text/x-python",
   "name": "python",
   "nbconvert_exporter": "python",
   "pygments_lexer": "ipython3",
   "version": "3.10.4"
  }
 },
 "nbformat": 4,
 "nbformat_minor": 2
}
