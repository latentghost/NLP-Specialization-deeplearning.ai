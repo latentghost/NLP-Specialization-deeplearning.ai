{
 "cells": [
  {
   "cell_type": "markdown",
   "metadata": {},
   "source": [
    "#### Deletion in Misspelled Words"
   ]
  },
  {
   "cell_type": "code",
   "execution_count": 1,
   "metadata": {},
   "outputs": [],
   "source": [
    "word = \"dearz\""
   ]
  },
  {
   "cell_type": "code",
   "execution_count": 2,
   "metadata": {},
   "outputs": [
    {
     "name": "stdout",
     "output_type": "stream",
     "text": [
      "['', 'dearz']\n",
      "['d', 'earz']\n",
      "['de', 'arz']\n",
      "['dea', 'rz']\n",
      "['dear', 'z']\n",
      "['dearz', '']\n"
     ]
    }
   ],
   "source": [
    "splits = []\n",
    "for i in range(len(word)+1):\n",
    "    splits.append([word[:i],word[i:]])\n",
    "for i in splits:\n",
    "    print(i)"
   ]
  },
  {
   "cell_type": "code",
   "execution_count": 6,
   "metadata": {},
   "outputs": [
    {
     "name": "stdout",
     "output_type": "stream",
     "text": [
      "Original Word: dearz\n",
      "\n",
      "Deleted d\n",
      "earz\n",
      "\n",
      "Deleted e\n",
      "darz\n",
      "\n",
      "Deleted a\n",
      "derz\n",
      "\n",
      "Deleted r\n",
      "deaz\n",
      "\n",
      "Deleted z\n",
      "dear\n",
      "\n"
     ]
    }
   ],
   "source": [
    "deletes = []\n",
    "print(f\"Original Word: {word}\\n\")\n",
    "\n",
    "for l,r in splits:\n",
    "    if r:\n",
    "        print(f\"Deleted {r[0]}\")\n",
    "        print(l + r[1:],end=\"\\n\\n\")\n",
    "deletes = [l+r[1:] for l,r in splits if r]"
   ]
  },
  {
   "cell_type": "code",
   "execution_count": 7,
   "metadata": {},
   "outputs": [
    {
     "name": "stdout",
     "output_type": "stream",
     "text": [
      "['earz', 'darz', 'derz', 'deaz', 'dear']\n"
     ]
    }
   ],
   "source": [
    "print(deletes)"
   ]
  },
  {
   "cell_type": "markdown",
   "metadata": {},
   "source": [
    "#### Ungraded Exercise\n",
    "Filter the list of candidate words to get known words that are present in the vocab"
   ]
  },
  {
   "cell_type": "code",
   "execution_count": 14,
   "metadata": {},
   "outputs": [
    {
     "name": "stdout",
     "output_type": "stream",
     "text": [
      "Vocabulary: ['dean', 'deer', 'dear', 'fries', 'and', 'coke']\n",
      "Edits: ['earz', 'deaz', 'darz', 'derz', 'dear']\n"
     ]
    }
   ],
   "source": [
    "vocab = ['dean','deer','dear','fries','and','coke']\n",
    "edits = list(set(deletes))\n",
    "\n",
    "print(f\"Vocabulary: {vocab}\")\n",
    "print(f\"Edits: {edits}\")"
   ]
  },
  {
   "cell_type": "code",
   "execution_count": 16,
   "metadata": {},
   "outputs": [
    {
     "name": "stdout",
     "output_type": "stream",
     "text": [
      "Candidate Words: ['dear']\n"
     ]
    }
   ],
   "source": [
    "candidates = list(set(edits).intersection(vocab))\n",
    "print(f\"Candidate Words: {candidates}\")"
   ]
  }
 ],
 "metadata": {
  "kernelspec": {
   "display_name": "Python 3",
   "language": "python",
   "name": "python3"
  },
  "language_info": {
   "codemirror_mode": {
    "name": "ipython",
    "version": 3
   },
   "file_extension": ".py",
   "mimetype": "text/x-python",
   "name": "python",
   "nbconvert_exporter": "python",
   "pygments_lexer": "ipython3",
   "version": "3.10.4"
  }
 },
 "nbformat": 4,
 "nbformat_minor": 2
}
