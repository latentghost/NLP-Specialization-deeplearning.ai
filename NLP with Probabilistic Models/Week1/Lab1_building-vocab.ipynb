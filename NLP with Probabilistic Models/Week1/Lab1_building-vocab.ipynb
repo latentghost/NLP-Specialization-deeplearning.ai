{
 "cells": [
  {
   "cell_type": "code",
   "execution_count": 7,
   "metadata": {},
   "outputs": [],
   "source": [
    "import matplotlib.pyplot as plt\n",
    "from collections import Counter\n",
    "import re\n",
    "import pprint\n",
    "\n",
    "pp = pprint.PrettyPrinter()"
   ]
  },
  {
   "cell_type": "code",
   "execution_count": 8,
   "metadata": {},
   "outputs": [
    {
     "name": "stdout",
     "output_type": "stream",
     "text": [
      "red pink pink blue blue yellow ORANGE BLUE BLUE PINK\n",
      "Length: 52\n"
     ]
    }
   ],
   "source": [
    "text = \"red pink pink blue blue yellow ORANGE BLUE BLUE PINK\"\n",
    "print(text)\n",
    "print(f\"Length: {len(text)}\")"
   ]
  },
  {
   "cell_type": "code",
   "execution_count": 9,
   "metadata": {},
   "outputs": [
    {
     "name": "stdout",
     "output_type": "stream",
     "text": [
      "red pink pink blue blue yellow orange blue blue pink\n",
      "Length: 52\n"
     ]
    }
   ],
   "source": [
    "text_lower = text.lower()\n",
    "print(text_lower)\n",
    "print(f\"Length: {len(text_lower)}\")"
   ]
  },
  {
   "cell_type": "code",
   "execution_count": 10,
   "metadata": {},
   "outputs": [
    {
     "name": "stdout",
     "output_type": "stream",
     "text": [
      "['red', 'pink', 'pink', 'blue', 'blue', 'yellow', 'orange', 'blue', 'blue', 'pink']\n",
      "Count: 10\n"
     ]
    }
   ],
   "source": [
    "words = re.findall(r'\\w+',text_lower)\n",
    "print(words)\n",
    "print(f\"Count: {len(words)}\")"
   ]
  },
  {
   "cell_type": "markdown",
   "metadata": {},
   "source": [
    "#### Option 1\n",
    "A set of words from the known text"
   ]
  },
  {
   "cell_type": "code",
   "execution_count": 11,
   "metadata": {},
   "outputs": [
    {
     "name": "stdout",
     "output_type": "stream",
     "text": [
      "{'pink', 'red', 'orange', 'yellow', 'blue'}\n",
      "Count: 5\n"
     ]
    }
   ],
   "source": [
    "vocab = set(words)\n",
    "print(vocab)\n",
    "print(f\"Count: {len(vocab)}\")"
   ]
  },
  {
   "cell_type": "markdown",
   "metadata": {},
   "source": [
    "#### Option 2\n",
    "Set of words with word counts"
   ]
  },
  {
   "cell_type": "code",
   "execution_count": 13,
   "metadata": {},
   "outputs": [
    {
     "name": "stdout",
     "output_type": "stream",
     "text": [
      "{'blue': 4, 'orange': 1, 'pink': 3, 'red': 1, 'yellow': 1}\n",
      "Count: 5\n"
     ]
    }
   ],
   "source": [
    "counts = {}\n",
    "for word in words:\n",
    "    counts[word] = counts.get(word,0)+1\n",
    "pp.pprint(counts)\n",
    "print(f\"Count: {len(counts)}\")"
   ]
  },
  {
   "cell_type": "code",
   "execution_count": 16,
   "metadata": {},
   "outputs": [
    {
     "name": "stdout",
     "output_type": "stream",
     "text": [
      "Counter({'blue': 4, 'pink': 3, 'red': 1, 'yellow': 1, 'orange': 1})\n",
      "Count: 5\n"
     ]
    }
   ],
   "source": [
    "counts2 = Counter(words)\n",
    "pp.pprint(counts2)\n",
    "print(f\"Count: {len(counts2)}\")"
   ]
  },
  {
   "cell_type": "code",
   "execution_count": 17,
   "metadata": {},
   "outputs": [
    {
     "data": {
      "image/png": "[encoded data removed]",
      "text/plain": [
       "<Figure size 432x288 with 1 Axes>"
      ]
     },
     "metadata": {
      "needs_background": "light"
     },
     "output_type": "display_data"
    }
   ],
   "source": [
    "d = {'blue': counts2['blue'], 'pink': counts2['pink'], 'red': counts2['red'], 'yellow': counts2['yellow'], 'orange': counts2['orange']}\n",
    "plt.bar(range(len(d)), list(d.values()), align='center', color=d.keys())\n",
    "_ = plt.xticks(range(len(d)), list(d.keys()))"
   ]
  },
  {
   "cell_type": "markdown",
   "metadata": {},
   "source": [
    "#### Ungraded Exercise\n",
    "Modify the corpus to get a new color between '*pink*' & '*red*'"
   ]
  },
  {
   "cell_type": "code",
   "execution_count": 19,
   "metadata": {},
   "outputs": [
    {
     "name": "stdout",
     "output_type": "stream",
     "text": [
      "red pink pink blue blue yellow ORANGE BLUE BLUE PINK brown brown\n",
      "String Length: 64\n"
     ]
    }
   ],
   "source": [
    "text2 = text + \" \" + \"brown brown\"\n",
    "print(text2)\n",
    "print(f\"String Length: {len(text2)}\")"
   ]
  },
  {
   "cell_type": "code",
   "execution_count": 24,
   "metadata": {},
   "outputs": [
    {
     "name": "stdout",
     "output_type": "stream",
     "text": [
      "red pink pink blue blue yellow orange blue blue pink brown brown\n",
      "Length: 64\n"
     ]
    }
   ],
   "source": [
    "text2_lower = text2.lower()\n",
    "print(text2_lower)\n",
    "print(f\"Length: {len(text2_lower)}\")"
   ]
  },
  {
   "cell_type": "code",
   "execution_count": 25,
   "metadata": {},
   "outputs": [
    {
     "name": "stdout",
     "output_type": "stream",
     "text": [
      "['red', 'pink', 'pink', 'blue', 'blue', 'yellow', 'orange', 'blue', 'blue', 'pink', 'brown', 'brown']\n",
      "Count: 12\n"
     ]
    }
   ],
   "source": [
    "words2 = re.findall(r'\\w+',text2_lower)\n",
    "print(words2)\n",
    "print(f\"Count: {len(words2)}\")"
   ]
  },
  {
   "cell_type": "code",
   "execution_count": 26,
   "metadata": {},
   "outputs": [
    {
     "name": "stdout",
     "output_type": "stream",
     "text": [
      "Counter({'blue': 4, 'pink': 3, 'brown': 2, 'red': 1, 'yellow': 1, 'orange': 1})\n",
      "Count: 6\n"
     ]
    }
   ],
   "source": [
    "counts22 = Counter(words2)\n",
    "pp.pprint(counts22)\n",
    "print(f\"Count: {len(counts22)}\")"
   ]
  },
  {
   "cell_type": "code",
   "execution_count": 28,
   "metadata": {},
   "outputs": [
    {
     "data": {
      "image/png": "[encoded data removed]",
      "text/plain": [
       "<Figure size 432x288 with 1 Axes>"
      ]
     },
     "metadata": {
      "needs_background": "light"
     },
     "output_type": "display_data"
    }
   ],
   "source": [
    "d2 = {'blue':counts22['blue'],'pink':counts22['pink'],'brown':counts22['brown'],'red':counts22['red'],'yellow':counts22['yellow'],'orange':counts22['orange']}\n",
    "plt.bar(range(len(d2)), list(d2.values()), align='center', color=d2.keys())\n",
    "_ = plt.xticks(range(len(d2)), list(d2.keys()))"
   ]
  }
 ],
 "metadata": {
  "kernelspec": {
   "display_name": "Python 3",
   "language": "python",
   "name": "python3"
  },
  "language_info": {
   "codemirror_mode": {
    "name": "ipython",
    "version": 3
   },
   "file_extension": ".py",
   "mimetype": "text/x-python",
   "name": "python",
   "nbconvert_exporter": "python",
   "pygments_lexer": "ipython3",
   "version": "3.10.4"
  }
 },
 "nbformat": 4,
 "nbformat_minor": 2
}
