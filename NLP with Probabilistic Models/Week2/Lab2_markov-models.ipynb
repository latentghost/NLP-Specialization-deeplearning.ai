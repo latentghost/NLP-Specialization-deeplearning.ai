{
 "cells": [
  {
   "cell_type": "code",
   "execution_count": 18,
   "metadata": {},
   "outputs": [],
   "source": [
    "import numpy as np\n",
    "import pandas as pd"
   ]
  },
  {
   "cell_type": "code",
   "execution_count": 19,
   "metadata": {},
   "outputs": [],
   "source": [
    "# Adverb, Noun, Preposition\n",
    "tags = ['RB','NN','TO']"
   ]
  },
  {
   "cell_type": "code",
   "execution_count": 20,
   "metadata": {},
   "outputs": [],
   "source": [
    "transition_counts = {\n",
    "    ('NN', 'NN'): 16241,\n",
    "    ('RB', 'RB'): 2263,\n",
    "    ('TO', 'TO'): 2,\n",
    "    ('NN', 'TO'): 5256,\n",
    "    ('RB', 'TO'): 855,\n",
    "    ('TO', 'NN'): 734,\n",
    "    ('NN', 'RB'): 2431,\n",
    "    ('RB', 'NN'): 358,\n",
    "    ('TO', 'RB'): 200\n",
    "}"
   ]
  },
  {
   "cell_type": "code",
   "execution_count": 21,
   "metadata": {},
   "outputs": [],
   "source": [
    "n_tags = len(tags)\n",
    "# Transition Matrix has first row corresponding to the pi state\n",
    "transition_matrix = np.zeros((n_tags,n_tags))"
   ]
  },
  {
   "cell_type": "code",
   "execution_count": 22,
   "metadata": {},
   "outputs": [
    {
     "data": {
      "text/plain": [
       "array([[1.6241e+04, 2.4310e+03, 5.2560e+03],\n",
       "       [3.5800e+02, 2.2630e+03, 8.5500e+02],\n",
       "       [7.3400e+02, 2.0000e+02, 2.0000e+00]])"
      ]
     },
     "execution_count": 22,
     "metadata": {},
     "output_type": "execute_result"
    }
   ],
   "source": [
    "sorted_tags = sorted(tags)\n",
    "\n",
    "for i in range(n_tags):\n",
    "    for j in range(n_tags):\n",
    "        pair = (sorted_tags[i],sorted_tags[j])\n",
    "        transition_matrix[i,j] = transition_counts.get(pair,0)\n",
    "\n",
    "transition_matrix"
   ]
  },
  {
   "cell_type": "code",
   "execution_count": 23,
   "metadata": {},
   "outputs": [],
   "source": [
    "def print_matrix(matrix):\n",
    "    print(pd.DataFrame(matrix,index=sorted_tags,columns=sorted_tags))"
   ]
  },
  {
   "cell_type": "code",
   "execution_count": 24,
   "metadata": {},
   "outputs": [
    {
     "name": "stdout",
     "output_type": "stream",
     "text": [
      "         NN      RB      TO\n",
      "NN  16241.0  2431.0  5256.0\n",
      "RB    358.0  2263.0   855.0\n",
      "TO    734.0   200.0     2.0\n"
     ]
    }
   ],
   "source": [
    "print_matrix(transition_matrix)"
   ]
  },
  {
   "cell_type": "code",
   "execution_count": 27,
   "metadata": {},
   "outputs": [
    {
     "name": "stdout",
     "output_type": "stream",
     "text": [
      "        NN     RB     TO\n",
      "NN  1624.1  243.1  525.6\n",
      "RB    35.8  226.3   85.5\n",
      "TO    73.4   20.0    0.2\n"
     ]
    }
   ],
   "source": [
    "m1 = transition_matrix/10\n",
    "print_matrix(m1)"
   ]
  },
  {
   "cell_type": "code",
   "execution_count": 29,
   "metadata": {},
   "outputs": [
    {
     "data": {
      "text/plain": [
       "array([[23928.],\n",
       "       [ 3476.],\n",
       "       [  936.]])"
      ]
     },
     "execution_count": 29,
     "metadata": {},
     "output_type": "execute_result"
    }
   ],
   "source": [
    "m2 = transition_matrix.sum(axis=1,keepdims=True)\n",
    "m2"
   ]
  },
  {
   "cell_type": "code",
   "execution_count": 30,
   "metadata": {},
   "outputs": [
    {
     "name": "stdout",
     "output_type": "stream",
     "text": [
      "          NN        RB        TO\n",
      "NN  0.678745  0.101596  0.219659\n",
      "RB  0.102992  0.651036  0.245972\n",
      "TO  0.784188  0.213675  0.002137\n"
     ]
    }
   ],
   "source": [
    "# Final Transition Matrix (without pi state) of probabilities\n",
    "transition_matrix = transition_matrix/m2\n",
    "print_matrix(transition_matrix)"
   ]
  },
  {
   "cell_type": "code",
   "execution_count": 32,
   "metadata": {},
   "outputs": [],
   "source": [
    "import math\n",
    "t_matrix1 = np.copy(transition_matrix)\n",
    "t_matrix2 = np.copy(transition_matrix)"
   ]
  },
  {
   "cell_type": "code",
   "execution_count": 33,
   "metadata": {},
   "outputs": [
    {
     "name": "stdout",
     "output_type": "stream",
     "text": [
      "           NN        RB        TO\n",
      "NN  10.761549  0.101596  0.219659\n",
      "RB   0.102992  8.804673  0.245972\n",
      "TO   0.784188  0.213675  6.843752\n"
     ]
    }
   ],
   "source": [
    "for i in range(n_tags):\n",
    "    t_matrix1[i,i] = math.log(m2[i])+t_matrix1[i,i]\n",
    "print_matrix(t_matrix1)"
   ]
  },
  {
   "cell_type": "code",
   "execution_count": 36,
   "metadata": {},
   "outputs": [],
   "source": [
    "diag = (np.diag(t_matrix2)).reshape(m2.shape)"
   ]
  },
  {
   "cell_type": "code",
   "execution_count": 37,
   "metadata": {},
   "outputs": [
    {
     "name": "stdout",
     "output_type": "stream",
     "text": [
      "           NN        RB        TO\n",
      "NN  10.761549  0.101596  0.219659\n",
      "RB   0.102992  8.804673  0.245972\n",
      "TO   0.784188  0.213675  6.843752\n"
     ]
    }
   ],
   "source": [
    "diag = diag + np.vectorize(math.log)(m2)\n",
    "np.fill_diagonal(t_matrix2,diag)\n",
    "print_matrix(t_matrix2)"
   ]
  },
  {
   "cell_type": "code",
   "execution_count": 55,
   "metadata": {},
   "outputs": [
    {
     "data": {
      "text/plain": [
       "array([[ True,  True,  True],\n",
       "       [ True,  True,  True],\n",
       "       [ True,  True,  True]])"
      ]
     },
     "execution_count": 55,
     "metadata": {},
     "output_type": "execute_result"
    }
   ],
   "source": [
    "(t_matrix1==t_matrix2)"
   ]
  }
 ],
 "metadata": {
  "kernelspec": {
   "display_name": "Python 3",
   "language": "python",
   "name": "python3"
  },
  "language_info": {
   "codemirror_mode": {
    "name": "ipython",
    "version": 3
   },
   "file_extension": ".py",
   "mimetype": "text/x-python",
   "name": "python",
   "nbconvert_exporter": "python",
   "pygments_lexer": "ipython3",
   "version": "3.10.4"
  }
 },
 "nbformat": 4,
 "nbformat_minor": 2
}
