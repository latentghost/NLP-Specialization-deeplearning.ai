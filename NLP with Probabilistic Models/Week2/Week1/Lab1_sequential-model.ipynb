{
 "cells": [
  {
   "cell_type": "code",
   "execution_count": 1,
   "metadata": {},
   "outputs": [],
   "source": [
    "import os\n",
    "os.environ['TF_CPP_MIN_LOG_LEVEL'] = '3'\n",
    "\n",
    "import numpy as np\n",
    "import tensorflow as tf\n",
    "from keras.preprocessing.text import Tokenizer\n",
    "from keras import layers\n",
    "from keras import losses\n",
    "import re\n",
    "import string\n",
    "import matplotlib.pyplot as plt"
   ]
  },
  {
   "cell_type": "code",
   "execution_count": 2,
   "metadata": {},
   "outputs": [
    {
     "data": {
      "text/plain": [
       "'/Users/akshatgupta/Desktop/NLP-Specialization-deeplearning.ai/NLP with Sequence Models/Week1'"
      ]
     },
     "execution_count": 2,
     "metadata": {},
     "output_type": "execute_result"
    }
   ],
   "source": [
    "os.getcwd()"
   ]
  },
  {
   "cell_type": "code",
   "execution_count": 3,
   "metadata": {},
   "outputs": [],
   "source": [
    "seed = 21\n",
    "np.random.seed(21)\n",
    "tf.random.set_seed(21)"
   ]
  },
  {
   "cell_type": "code",
   "execution_count": 4,
   "metadata": {},
   "outputs": [],
   "source": [
    "data_dir = 'Lab_support/data/aclImdb'"
   ]
  },
  {
   "cell_type": "code",
   "execution_count": 5,
   "metadata": {},
   "outputs": [
    {
     "name": "stdout",
     "output_type": "stream",
     "text": [
      "Found 5000 files belonging to 2 classes.\n",
      "Using 4000 files for training.\n",
      "Found 5000 files belonging to 2 classes.\n",
      "Using 1000 files for validation.\n",
      "Found 1147 files belonging to 1 classes.\n"
     ]
    }
   ],
   "source": [
    "raw_training_set = tf.keras.utils.text_dataset_from_directory(\n",
    "    f'{data_dir}/train',\n",
    "    labels='inferred',\n",
    "    label_mode='int',\n",
    "    batch_size=32, \n",
    "    validation_split=0.2, \n",
    "    subset='training', \n",
    "    seed=seed\n",
    ")\n",
    "\n",
    "raw_validation_set = tf.keras.utils.text_dataset_from_directory(\n",
    "    f'{data_dir}/train',\n",
    "    labels='inferred',\n",
    "    label_mode='int',\n",
    "    batch_size=32, \n",
    "    validation_split=0.2, \n",
    "    subset='validation', \n",
    "    seed=seed\n",
    ")\n",
    "\n",
    "raw_test_set = tf.keras.utils.text_dataset_from_directory(\n",
    "    f'{data_dir}/test',\n",
    "    labels='inferred',\n",
    "    label_mode='int',\n",
    "    batch_size=32,\n",
    ")"
   ]
  },
  {
   "cell_type": "code",
   "execution_count": 6,
   "metadata": {},
   "outputs": [
    {
     "name": "stdout",
     "output_type": "stream",
     "text": [
      "Label 0 corresponds to neg\n",
      "Label 1 corresponds to pos\n"
     ]
    }
   ],
   "source": [
    "print(f\"Label 0 corresponds to {raw_training_set.class_names[0]}\")\n",
    "print(f\"Label 1 corresponds to {raw_training_set.class_names[1]}\")"
   ]
  },
  {
   "cell_type": "code",
   "execution_count": 7,
   "metadata": {},
   "outputs": [
    {
     "name": "stdout",
     "output_type": "stream",
     "text": [
      "Review:\n",
      " b'If Saura hadn\\'t done anything like this before, Iberia would be a milestone. Now it still deserves inclusion to honor a great director and a great cinematic conservator of Spanish culture, but he has done a lot like this before, and though we can applaud the riches he has given us, we have to pick and choose favorites and high points among similar films which include Blood Wedding (1981), Carmen (1983), El Amore Brujo (1986), Sevillanas (1992), Salom\\xc3\\xa9 (2002) and Tango (1998). I would choose Saura\\'s 1995 Flamenco as his most unique and potent cultural document, next to which Iberia pales.<br /><br />Iberia is conceived as a series of interpretations of the music of Isaac Manuel Francisco Alb\\xc3\\xa9niz (1860-1909) and in particular his \"Iberia\" suite for piano. Isaac Alb\\xc3\\xa9niz was a great contributor to the externalization of Spanish musical culture -- its re-formatting for a non-Spanish audience. He moved to France in his early thirties and was influenced by French composers. His \"Iberia\" suite is an imaginative synthesis of Spanish folk music with the styles of Liszt, Dukas and d\\'Indy. He traveled around performing his compositions, which are a kind of beautiful standardization of Spanish rhythms and melodies, not as homogenized as Ravel\\'s Bolero but moving in that direction. Naturally, the Spanish have repossessed Alb\\xc3\\xa9niz, and in Iberia, the performers reinterpret his compositions in terms of various more ethnic and regional dances and styles. But the source is a tamed and diluted form of Spanish musical and dance culture compared to the echt Spanishness of pure flamenco. Flamenco, coming out of the region of Andalusia, is a deeply felt amalgam of gitane, Hispano-Arabic, and Jewish cultures. Iberia simply is the peninsula comprising Spain, Portugal, Andorra and Gibraltar; the very concept is more diluted. <br /><br />Saura\\'s Flamenco is an unstoppably intense ethnic mix of music, singing, dancing and that peacock manner of noble preening that is the essence of Spanish style, the way a man and a woman carries himself or herself with pride verging on arrogance and elegance and panache -- even bullfights and the moves of the torero are full of it -- in a series of electric sequences without introduction or conclusion; they just are. Saura always emphasized the staginess of his collaborations with choreographer Antonio Gades and other artists. In his 1995 Flamenco he dropped any pretense of a story and simply has singers, musicians, and dancers move on and off a big sound stage with nice lighting and screens, flats, and mirrors arranged by cinematographer Vittorio Storaro, another of the Spanish filmmaker\\'s important collaborators. The beginnings and endings of sequences in Flamenco are often rough, but atmospheric, marked only by the rumble and rustle of shuffling feet and a mixture of voices. Sometimes the film keeps feeding when a performance is over and you see the dancer bend over, sigh, or laugh; or somebody just unexpectedly says something. In Flamenco more than any of Saura\\'s other musical films it\\'s the rapt, intense interaction of singers and dancers and rhythmically clapping participant observers shouting impulsive ol\\xc3\\xa9\\'s that is the \"story\" and creates the magic. Because Saura has truly made magic, and perhaps best so when he dropped any sort of conventional story.<br /><br />Iberia is in a similar style to some of Saura\\'s purest musical films: no narration, no dialogue, only brief titles to indicate the type of song or the region, beginning with a pianist playing Albeniz\\'s music and gradually moving to a series of dance sequences and a little singing. In flamenco music, the fundamental element is the unaccompanied voice, and that voice is the most unmistakable and unique contribution to world music. It relates to other songs in other ethnicities, but nothing quite equals its raw raucous unique ugly-beautiful cry that defies you to do anything but listen to it with the closest attention. Then comes the clapping and the foot stomping, and then the dancing, combined with the other elements. There is only one flamenco song in Iberia. If you love Saura\\'s Flamenco, you\\'ll want to see Iberia, but you\\'ll be a bit disappointed. The style is there; some of the great voices and dancing and music are there. But Iberia\\'s source and conception doom it to a lesser degree of power and make it a less rich and intense cultural experience.'\n",
      "Label: 1\n",
      "\n",
      "Review:\n",
      " b'Is this the future that awaits us? An overpopulated, unforgiving wasteland with a hellish, unwanted existence? This film brings to mind a problem that still plagues us, doubly so since the film was released in back in 1973. Let\\'s hope that the world isn\\'t going to end up like this...<br /><br />Soylent Green is a wild movie that I enjoyed very much. It had likable characters, a semi-apocalyptic setting, a compelling and thought-provoking storyline, and the macho-est macho man out there: Charleton Heston. Richard Fleischer gave the movie a very unpleasant, dirty feel. You\\'re almost choked by the stench from the city and its filthy inhabitants.<br /><br />The characters are wonderful. Charleton Heston, who has become one of my favorite actors, IS Thorn. The man created this role of badass, yet likable tough-guy. I could definitely put myself in Thorn\\'s shoes. He sees that something isn\\'t right, but everyone around him either doesn\\'t listen (more like paid not to listen) or wants him dead. Edward G. Robinson (in his last film, R.I.P.) plays the lovable old Sol, who has had enough of this nasty place. Everyone else is great, especially Leigh Taylor-Young as Shirl, a piece of \"furniture\" that comes with the apartment in which she resides.<br /><br />The special effects are fantastic, even for 1973. The Soylent Green factory, the futuristic apartments, and especially the \"scoops\" (bulldozers that get rid of people) were excellent. The polluted air outside looks disgusting and very nasty. The empty city streets filled with the vile and putrid people are very unsettling.<br /><br />One final note is the ending, which even now still shocked me. It is gruesome, but if you think about it, it\\'s a pretty good idea.<br /><br />The Bottom Line: <br /><br />An excellent 70\\'s Science Fiction flick that makes you think and leaves you feeling very uneasy.'\n",
      "Label: 1\n",
      "\n",
      "Review:\n",
      " b\"I don't know if the problem I had with this movie is that I was not able to capture the way movies were done in the past but I believe that this one did not miss to make use of any of the the fashionable conventions available in the 40s to make a film. If you don't have anything better to do my advise is not to watch this movie but to read a book or to go out for a walk.\"\n",
      "Label: 0\n",
      "\n"
     ]
    }
   ],
   "source": [
    "for text_batch, label_batch in raw_training_set.take(1):\n",
    "    for i in range(3):\n",
    "        print(f\"Review:\\n {text_batch.numpy()[i]}\")\n",
    "        print(f\"Label: {label_batch.numpy()[i]}\\n\")"
   ]
  },
  {
   "cell_type": "code",
   "execution_count": 8,
   "metadata": {},
   "outputs": [],
   "source": [
    "max_features = 10000\n",
    "\n",
    "def custom_standardization(input_data):\n",
    "    lowercase = tf.strings.lower(input_data)\n",
    "    stripped_html = tf.strings.regex_replace(lowercase, '<br />', ' ')\n",
    "    replaced = tf.strings.regex_replace(\n",
    "        stripped_html,\n",
    "        '[%s]' % re.escape(string.punctuation),\n",
    "        ''\n",
    "    )\n",
    "    return replaced\n",
    "\n",
    "# Create a layer that you can use to convert text to vectors\n",
    "vectorize_layer = layers.TextVectorization(\n",
    "    standardize=custom_standardization,\n",
    "    max_tokens=max_features,\n",
    "    output_mode='int',\n",
    "    output_sequence_length=250)"
   ]
  },
  {
   "cell_type": "code",
   "execution_count": 9,
   "metadata": {},
   "outputs": [
    {
     "name": "stdout",
     "output_type": "stream",
     "text": [
      "Vocabulary size: 10000\n"
     ]
    }
   ],
   "source": [
    "train_text = raw_training_set.map(lambda x, y: x)\n",
    "vectorize_layer.adapt(train_text)\n",
    "\n",
    "print(f\"Vocabulary size: {len(vectorize_layer.get_vocabulary())}\")"
   ]
  },
  {
   "cell_type": "code",
   "execution_count": 10,
   "metadata": {},
   "outputs": [
    {
     "name": "stdout",
     "output_type": "stream",
     "text": [
      "Review:\n",
      "b'First, IFC runs Town and Country, and now this. The difference between that stinker and this Pink Panther rip-off is that Town and Country was watchable. This isn\\'t.<br /><br />I can only surmise that the cast signed up for this so they could goof off in Europe on somebody else\\'s dime. Belushi is especially irritating. His scene with Candy (doing a Z-grade Dom DeLuise) was torture. Speaking of torture, five minutes of the talentless Shepherd, and I bet the prisoners at Gitmo would crack like walnuts!<br /><br />The real \"Crime\" (besides this being green-lighted) is Shepherd\\'s character: a mousy wife who takes a Monte Carlo casino for a half-million bucks! If you buy that, I have some oceanfront property in Arizona you might be interested in!'\n",
      "\n",
      "Label: neg\n",
      "\n",
      "Vectorized review\n",
      "(<tf.Tensor: shape=(1, 250), dtype=int64, numpy=\n",
      "array([[  76,    1, 1215,  566,    4,  750,    4,  150,   11,    2, 1420,\n",
      "         182,   12, 4245,    4,   11, 4070,    1, 2494,    7,   12,  566,\n",
      "           4,  750,   14, 1542,   11,  212,   10,   66,   60,    1,   12,\n",
      "           2,  170, 4483,   56,   15,   11,   37,   34,   95,    1,  124,\n",
      "           8, 2185,   20, 1609, 8163,    1, 9403,    7,  249, 2112,   22,\n",
      "         131,   16, 1744,  378,    3,    1,    1,    1,   14, 1787, 1272,\n",
      "           5, 1787,  742,  236,    5,    2, 6499, 7099,    4,   10, 2401,\n",
      "           2, 4509,   30,    1,   61, 6343,   38,    1,    2,  148,  796,\n",
      "        1310,   11,  110,    1,    7,    1,  104,    3,    1,  313,   35,\n",
      "         287,    3,    1, 9345, 9342,   15,    3,    1, 3672,   44,   21,\n",
      "         765,   12,   10,   25,   46,    1, 5716,    8, 9440,   21,  230,\n",
      "          27,  844,    8,    0,    0,    0,    0,    0,    0,    0,    0,\n",
      "           0,    0,    0,    0,    0,    0,    0,    0,    0,    0,    0,\n",
      "           0,    0,    0,    0,    0,    0,    0,    0,    0,    0,    0,\n",
      "           0,    0,    0,    0,    0,    0,    0,    0,    0,    0,    0,\n",
      "           0,    0,    0,    0,    0,    0,    0,    0,    0,    0,    0,\n",
      "           0,    0,    0,    0,    0,    0,    0,    0,    0,    0,    0,\n",
      "           0,    0,    0,    0,    0,    0,    0,    0,    0,    0,    0,\n",
      "           0,    0,    0,    0,    0,    0,    0,    0,    0,    0,    0,\n",
      "           0,    0,    0,    0,    0,    0,    0,    0,    0,    0,    0,\n",
      "           0,    0,    0,    0,    0,    0,    0,    0,    0,    0,    0,\n",
      "           0,    0,    0,    0,    0,    0,    0,    0,    0,    0,    0,\n",
      "           0,    0,    0,    0,    0,    0,    0,    0]])>, <tf.Tensor: shape=(), dtype=int32, numpy=0>)\n"
     ]
    }
   ],
   "source": [
    "def vectorize_text(text, label):\n",
    "    text = tf.expand_dims(text, -1)\n",
    "    return vectorize_layer(text), label\n",
    "\n",
    "# Get one batch and select the first datapoint\n",
    "text_batch, label_batch = next(iter(raw_training_set))\n",
    "first_review, first_label = text_batch[0], label_batch[0]\n",
    "\n",
    "print(f\"Review:\\n{first_review}\")\n",
    "print(f\"\\nLabel: {raw_training_set.class_names[first_label]}\")\n",
    "\n",
    "print(f\"\\nVectorized review\\n{vectorize_text(first_review, first_label)}\")"
   ]
  },
  {
   "cell_type": "code",
   "execution_count": 11,
   "metadata": {},
   "outputs": [],
   "source": [
    "train_ds = raw_training_set.map(vectorize_text)\n",
    "val_ds = raw_validation_set.map(vectorize_text)\n",
    "test_ds = raw_test_set.map(vectorize_text)"
   ]
  },
  {
   "cell_type": "code",
   "execution_count": 12,
   "metadata": {},
   "outputs": [],
   "source": [
    "AUTOTUNE = tf.data.AUTOTUNE\n",
    "\n",
    "train_ds = train_ds.cache().prefetch(buffer_size=AUTOTUNE)\n",
    "test_ds = test_ds.cache().prefetch(buffer_size=AUTOTUNE)"
   ]
  },
  {
   "cell_type": "code",
   "execution_count": 14,
   "metadata": {},
   "outputs": [
    {
     "name": "stdout",
     "output_type": "stream",
     "text": [
      "Model: \"sequential\"\n",
      "_________________________________________________________________\n",
      " Layer (type)                Output Shape              Param #   \n",
      "=================================================================\n",
      " embedding (Embedding)       (None, None, 16)          160000    \n",
      "                                                                 \n",
      " global_average_pooling1d (  (None, 16)                0         \n",
      " GlobalAveragePooling1D)                                         \n",
      "                                                                 \n",
      " dense (Dense)               (None, 1)                 17        \n",
      "                                                                 \n",
      "=================================================================\n",
      "Total params: 160017 (625.07 KB)\n",
      "Trainable params: 160017 (625.07 KB)\n",
      "Non-trainable params: 0 (0.00 Byte)\n",
      "_________________________________________________________________\n"
     ]
    }
   ],
   "source": [
    "embedding_dim = 16\n",
    "\n",
    "sequential_model = tf.keras.Sequential(\n",
    "    layers=[\n",
    "        layers.Embedding(max_features,embedding_dim),\n",
    "        layers.GlobalAveragePooling1D(),\n",
    "        layers.Dense(units=1,activation='sigmoid')\n",
    "    ]\n",
    ")\n",
    "\n",
    "sequential_model.summary()"
   ]
  },
  {
   "cell_type": "code",
   "execution_count": 15,
   "metadata": {},
   "outputs": [],
   "source": [
    "sequential_model.compile(loss=losses.BinaryCrossentropy(from_logits=True),\n",
    "                         optimizer='adam',\n",
    "                         metrics=['acc'])"
   ]
  },
  {
   "cell_type": "code",
   "execution_count": 16,
   "metadata": {},
   "outputs": [
    {
     "name": "stdout",
     "output_type": "stream",
     "text": [
      "Model: \"model\"\n",
      "_________________________________________________________________\n",
      " Layer (type)                Output Shape              Param #   \n",
      "=================================================================\n",
      " input_1 (InputLayer)        [(None, None)]            0         \n",
      "                                                                 \n",
      " embedding_1 (Embedding)     (None, None, 16)          160000    \n",
      "                                                                 \n",
      " global_average_pooling1d_1  (None, 16)                0         \n",
      "  (GlobalAveragePooling1D)                                       \n",
      "                                                                 \n",
      " dense_1 (Dense)             (None, 1)                 17        \n",
      "                                                                 \n",
      "=================================================================\n",
      "Total params: 160017 (625.07 KB)\n",
      "Trainable params: 160017 (625.07 KB)\n",
      "Non-trainable params: 0 (0.00 Byte)\n",
      "_________________________________________________________________\n"
     ]
    }
   ],
   "source": [
    "inputs = tf.keras.Input(shape=(None,))\n",
    "\n",
    "embedding = layers.Embedding(max_features, embedding_dim)\n",
    "x = embedding(inputs)\n",
    "\n",
    "pooling = layers.GlobalAveragePooling1D()\n",
    "x = pooling(x)\n",
    "\n",
    "dense = layers.Dense(units=1,activation='sigmoid')\n",
    "yhat = dense(x)\n",
    "\n",
    "model = tf.keras.Model(inputs=inputs,outputs=yhat)\n",
    "model.summary()"
   ]
  },
  {
   "cell_type": "code",
   "execution_count": 17,
   "metadata": {},
   "outputs": [],
   "source": [
    "model.compile(loss=losses.BinaryCrossentropy(from_logits=True),\n",
    "              optimizer='adam',\n",
    "              metrics=['accuracy'])"
   ]
  },
  {
   "cell_type": "code",
   "execution_count": 18,
   "metadata": {},
   "outputs": [
    {
     "name": "stdout",
     "output_type": "stream",
     "text": [
      "Epoch 1/25\n"
     ]
    },
    {
     "name": "stderr",
     "output_type": "stream",
     "text": [
      "/Library/Frameworks/Python.framework/Versions/3.10/lib/python3.10/site-packages/keras/src/backend.py:5805: UserWarning: \"`binary_crossentropy` received `from_logits=True`, but the `output` argument was produced by a Sigmoid activation and thus does not represent logits. Was this intended?\n",
      "  output, from_logits = _get_logits(\n"
     ]
    },
    {
     "name": "stdout",
     "output_type": "stream",
     "text": [
      "125/125 - 1s - loss: 0.6909 - accuracy: 0.5335 - val_loss: 0.6880 - val_accuracy: 0.6130 - 599ms/epoch - 5ms/step\n",
      "Epoch 2/25\n",
      "125/125 - 0s - loss: 0.6806 - accuracy: 0.6650 - val_loss: 0.6748 - val_accuracy: 0.7090 - 224ms/epoch - 2ms/step\n",
      "Epoch 3/25\n",
      "125/125 - 0s - loss: 0.6606 - accuracy: 0.7360 - val_loss: 0.6535 - val_accuracy: 0.7310 - 222ms/epoch - 2ms/step\n",
      "Epoch 4/25\n",
      "125/125 - 0s - loss: 0.6320 - accuracy: 0.7695 - val_loss: 0.6270 - val_accuracy: 0.7500 - 224ms/epoch - 2ms/step\n",
      "Epoch 5/25\n",
      "125/125 - 0s - loss: 0.5986 - accuracy: 0.7928 - val_loss: 0.5987 - val_accuracy: 0.7640 - 220ms/epoch - 2ms/step\n",
      "Epoch 6/25\n",
      "125/125 - 0s - loss: 0.5636 - accuracy: 0.8120 - val_loss: 0.5708 - val_accuracy: 0.7810 - 217ms/epoch - 2ms/step\n",
      "Epoch 7/25\n",
      "125/125 - 0s - loss: 0.5289 - accuracy: 0.8300 - val_loss: 0.5443 - val_accuracy: 0.7850 - 217ms/epoch - 2ms/step\n",
      "Epoch 8/25\n",
      "125/125 - 0s - loss: 0.4955 - accuracy: 0.8468 - val_loss: 0.5196 - val_accuracy: 0.7940 - 217ms/epoch - 2ms/step\n",
      "Epoch 9/25\n",
      "125/125 - 0s - loss: 0.4639 - accuracy: 0.8640 - val_loss: 0.4970 - val_accuracy: 0.8060 - 221ms/epoch - 2ms/step\n",
      "Epoch 10/25\n",
      "125/125 - 0s - loss: 0.4343 - accuracy: 0.8770 - val_loss: 0.4766 - val_accuracy: 0.8220 - 220ms/epoch - 2ms/step\n",
      "Epoch 11/25\n",
      "125/125 - 0s - loss: 0.4069 - accuracy: 0.8905 - val_loss: 0.4584 - val_accuracy: 0.8300 - 272ms/epoch - 2ms/step\n",
      "Epoch 12/25\n",
      "125/125 - 0s - loss: 0.3817 - accuracy: 0.9003 - val_loss: 0.4424 - val_accuracy: 0.8350 - 226ms/epoch - 2ms/step\n",
      "Epoch 13/25\n",
      "125/125 - 0s - loss: 0.3586 - accuracy: 0.9085 - val_loss: 0.4285 - val_accuracy: 0.8340 - 223ms/epoch - 2ms/step\n",
      "Epoch 14/25\n",
      "125/125 - 0s - loss: 0.3375 - accuracy: 0.9147 - val_loss: 0.4163 - val_accuracy: 0.8390 - 229ms/epoch - 2ms/step\n",
      "Epoch 15/25\n",
      "125/125 - 0s - loss: 0.3181 - accuracy: 0.9212 - val_loss: 0.4057 - val_accuracy: 0.8360 - 227ms/epoch - 2ms/step\n",
      "Epoch 16/25\n",
      "125/125 - 0s - loss: 0.3003 - accuracy: 0.9268 - val_loss: 0.3966 - val_accuracy: 0.8370 - 232ms/epoch - 2ms/step\n",
      "Epoch 17/25\n",
      "125/125 - 0s - loss: 0.2839 - accuracy: 0.9340 - val_loss: 0.3886 - val_accuracy: 0.8410 - 228ms/epoch - 2ms/step\n",
      "Epoch 18/25\n",
      "125/125 - 0s - loss: 0.2687 - accuracy: 0.9395 - val_loss: 0.3817 - val_accuracy: 0.8430 - 231ms/epoch - 2ms/step\n",
      "Epoch 19/25\n",
      "125/125 - 0s - loss: 0.2546 - accuracy: 0.9427 - val_loss: 0.3758 - val_accuracy: 0.8440 - 229ms/epoch - 2ms/step\n",
      "Epoch 20/25\n",
      "125/125 - 0s - loss: 0.2414 - accuracy: 0.9490 - val_loss: 0.3706 - val_accuracy: 0.8450 - 229ms/epoch - 2ms/step\n",
      "Epoch 21/25\n",
      "125/125 - 0s - loss: 0.2290 - accuracy: 0.9513 - val_loss: 0.3662 - val_accuracy: 0.8440 - 229ms/epoch - 2ms/step\n",
      "Epoch 22/25\n",
      "125/125 - 0s - loss: 0.2173 - accuracy: 0.9553 - val_loss: 0.3624 - val_accuracy: 0.8430 - 237ms/epoch - 2ms/step\n",
      "Epoch 23/25\n",
      "125/125 - 0s - loss: 0.2064 - accuracy: 0.9600 - val_loss: 0.3591 - val_accuracy: 0.8430 - 232ms/epoch - 2ms/step\n",
      "Epoch 24/25\n",
      "125/125 - 0s - loss: 0.1960 - accuracy: 0.9610 - val_loss: 0.3563 - val_accuracy: 0.8450 - 234ms/epoch - 2ms/step\n",
      "Epoch 25/25\n",
      "125/125 - 0s - loss: 0.1862 - accuracy: 0.9638 - val_loss: 0.3540 - val_accuracy: 0.8420 - 238ms/epoch - 2ms/step\n"
     ]
    }
   ],
   "source": [
    "epochs = 25\n",
    "history = model.fit(\n",
    "    train_ds,\n",
    "    validation_data=val_ds,\n",
    "    epochs=epochs,\n",
    "    verbose=2\n",
    ")"
   ]
  },
  {
   "cell_type": "code",
   "execution_count": 19,
   "metadata": {},
   "outputs": [
    {
     "name": "stdout",
     "output_type": "stream",
     "text": [
      "36/36 [==============================] - 0s 2ms/step - loss: 0.3139 - accuracy: 0.8727\n",
      "Loss: 0.31391850113868713\n",
      "Accuracy: 0.8727114200592041\n"
     ]
    }
   ],
   "source": [
    "loss, accuracy = model.evaluate(test_ds)\n",
    "\n",
    "print(f\"Loss: {loss}\")\n",
    "print(f\"Accuracy: {accuracy}\")"
   ]
  },
  {
   "cell_type": "code",
   "execution_count": 20,
   "metadata": {},
   "outputs": [
    {
     "data": {
      "image/png": "[encoded data removed]",
      "text/plain": [
       "<Figure size 432x288 with 1 Axes>"
      ]
     },
     "metadata": {
      "needs_background": "light"
     },
     "output_type": "display_data"
    },
    {
     "data": {
      "image/png": "[encoded data removed]",
      "text/plain": [
       "<Figure size 432x288 with 1 Axes>"
      ]
     },
     "metadata": {
      "needs_background": "light"
     },
     "output_type": "display_data"
    }
   ],
   "source": [
    "def plot_metrics(history, metric):\n",
    "    plt.plot(history.history[metric])\n",
    "    plt.plot(history.history[f'val_{metric}'])\n",
    "    plt.xlabel(\"Epochs\")\n",
    "    plt.ylabel(metric.title())\n",
    "    plt.legend([metric, f'val_{metric}'])\n",
    "    plt.show()\n",
    "    \n",
    "plot_metrics(history, \"accuracy\")\n",
    "plot_metrics(history, \"loss\")"
   ]
  },
  {
   "cell_type": "code",
   "execution_count": 21,
   "metadata": {},
   "outputs": [],
   "source": [
    "export_model = tf.keras.Sequential([\n",
    "  vectorize_layer,\n",
    "  model]\n",
    ")\n",
    "\n",
    "export_model.compile(\n",
    "    loss=losses.BinaryCrossentropy(from_logits=False),\n",
    "    optimizer=\"adam\",\n",
    "    metrics=['accuracy']\n",
    ")"
   ]
  },
  {
   "cell_type": "code",
   "execution_count": 22,
   "metadata": {},
   "outputs": [
    {
     "name": "stdout",
     "output_type": "stream",
     "text": [
      "Result: 0.600,   Label: 1,   Review: this movie was very, very good\n",
      "Result: 0.512,   Label: 1,   Review: quite ok\n",
      "Result: 0.405,   Label: 0,   Review: the movie was not bad\n",
      "Result: 0.447,   Label: 0,   Review: bad\n",
      "Result: 0.378,   Label: 0,   Review: negative disappointed bad scary\n",
      "Result: 0.426,   Label: 0,   Review: this movie was stupid\n"
     ]
    }
   ],
   "source": [
    "examples = ['this movie was very, very good', 'quite ok', 'the movie was not bad', 'bad', 'negative disappointed bad scary', 'this movie was stupid']\n",
    "\n",
    "results = export_model.predict(examples, verbose=False)\n",
    "\n",
    "for result, example in zip(results, examples):\n",
    "    print(f'Result: {result[0]:.3f},   Label: {int(np.round(result[0]))},   Review: {example}')"
   ]
  }
 ],
 "metadata": {
  "kernelspec": {
   "display_name": "Python 3",
   "language": "python",
   "name": "python3"
  },
  "language_info": {
   "codemirror_mode": {
    "name": "ipython",
    "version": 3
   },
   "file_extension": ".py",
   "mimetype": "text/x-python",
   "name": "python",
   "nbconvert_exporter": "python",
   "pygments_lexer": "ipython3",
   "version": "3.10.4"
  }
 },
 "nbformat": 4,
 "nbformat_minor": 2
}
