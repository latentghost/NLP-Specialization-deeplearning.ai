{
 "cells": [
  {
   "cell_type": "code",
   "execution_count": 29,
   "metadata": {},
   "outputs": [],
   "source": [
    "import pprint\n",
    "import numpy as np\n",
    "from Lab1_support.utils_nb import plot_vectors\n",
    "import matplotlib.pyplot as plt"
   ]
  },
  {
   "cell_type": "code",
   "execution_count": 30,
   "metadata": {},
   "outputs": [],
   "source": [
    "pp = pprint.PrettyPrinter(indent=4)"
   ]
  },
  {
   "cell_type": "code",
   "execution_count": 31,
   "metadata": {},
   "outputs": [],
   "source": [
    "def basic_hash_table(value_l, n_buckets):\n",
    "    def hash_fn(value, n_buckets):\n",
    "        return int(value)%n_buckets\n",
    "    \n",
    "    hash_table = {i:[] for i in range(n_buckets)}\n",
    "\n",
    "    for value in value_l:\n",
    "        hash_val = hash_fn(value,n_buckets)\n",
    "        hash_table[hash_val].append(value)\n",
    "\n",
    "    return hash_table"
   ]
  },
  {
   "cell_type": "code",
   "execution_count": 32,
   "metadata": {},
   "outputs": [
    {
     "name": "stdout",
     "output_type": "stream",
     "text": [
      "{   0: [100, 10],\n",
      "    1: [1],\n",
      "    2: [],\n",
      "    3: [23],\n",
      "    4: [14],\n",
      "    5: [],\n",
      "    6: [],\n",
      "    7: [47, 17, 97],\n",
      "    8: [],\n",
      "    9: [9]}\n"
     ]
    }
   ],
   "source": [
    "value_l = [100,47,1,9,23,10,17,97,14]\n",
    "hash_table_example = basic_hash_table(value_l,n_buckets=10)\n",
    "pp.pprint(hash_table_example)"
   ]
  },
  {
   "cell_type": "code",
   "execution_count": 33,
   "metadata": {},
   "outputs": [
    {
     "data": {
      "image/png": "[encoded data removed]",
      "text/plain": [
       "<Figure size 576x576 with 1 Axes>"
      ]
     },
     "metadata": {
      "needs_background": "light"
     },
     "output_type": "display_data"
    }
   ],
   "source": [
    "P = np.array([[2,3]])\n",
    "fig,ax = plt.subplots(figsize=(8,8))\n",
    "plot_vectors([P],axes=[4,4],ax=ax)\n",
    "\n",
    "for i in range(10):\n",
    "    v1 = np.array(np.random.uniform(-2,2,2))\n",
    "    side_of_plane = np.sign(np.dot(P,v1.T))\n",
    "\n",
    "    if side_of_plane==1:\n",
    "        ax.plot([v1[0]],[v1[1]],'bo')\n",
    "    else:\n",
    "        ax.plot([v1[0]],[v1[1]],'ro')\n",
    "\n",
    "plt.show()"
   ]
  },
  {
   "cell_type": "code",
   "execution_count": 34,
   "metadata": {},
   "outputs": [
    {
     "data": {
      "image/png": "[encoded data removed]",
      "text/plain": [
       "<Figure size 576x576 with 1 Axes>"
      ]
     },
     "metadata": {
      "needs_background": "light"
     },
     "output_type": "display_data"
    }
   ],
   "source": [
    "P1 = np.array([[2,3]])\n",
    "P2 = np.dot([[0,1],[-1,0]],P1.T).T\n",
    "\n",
    "fig,ax = plt.subplots(figsize=(8,8))\n",
    "plot_vectors([P1],colors=['b'],axes=[4,4],ax=ax)\n",
    "plot_vectors([P2*4, P2*-4],colors=['k','k'],axes=[4, 4],ax=ax)\n",
    "\n",
    "for i in range(10):\n",
    "    v1 = np.array(np.random.uniform(-5,5,2))\n",
    "    side_of_plane = np.sign(np.dot(P1,v1.T))\n",
    "\n",
    "    if side_of_plane==1:\n",
    "        ax.plot([v1[0]],[v1[1]],'bo')\n",
    "    else:\n",
    "        ax.plot([v1[0]],[v1[1]],'ro')\n",
    "\n",
    "plt.show()"
   ]
  },
  {
   "cell_type": "code",
   "execution_count": 35,
   "metadata": {},
   "outputs": [],
   "source": [
    "def side_of_plane(P,v):\n",
    "    dotprod = np.dot(P,v.T)\n",
    "    sign = np.sign(dotprod)\n",
    "    sign = sign.item()\n",
    "    return sign"
   ]
  },
  {
   "cell_type": "code",
   "execution_count": 36,
   "metadata": {},
   "outputs": [
    {
     "data": {
      "text/plain": [
       "1"
      ]
     },
     "execution_count": 36,
     "metadata": {},
     "output_type": "execute_result"
    }
   ],
   "source": [
    "side_of_plane(np.array([[2,3]]),np.array([4,6]))"
   ]
  },
  {
   "cell_type": "code",
   "execution_count": 37,
   "metadata": {},
   "outputs": [
    {
     "data": {
      "text/plain": [
       "1"
      ]
     },
     "execution_count": 37,
     "metadata": {},
     "output_type": "execute_result"
    }
   ],
   "source": [
    "side_of_plane(np.array([[2,3]]),np.array([4,-1]))"
   ]
  },
  {
   "cell_type": "code",
   "execution_count": 38,
   "metadata": {},
   "outputs": [
    {
     "data": {
      "text/plain": [
       "-1"
      ]
     },
     "execution_count": 38,
     "metadata": {},
     "output_type": "execute_result"
    }
   ],
   "source": [
    "side_of_plane(np.array([[2,3]]),np.array([-1,-5]))"
   ]
  },
  {
   "cell_type": "code",
   "execution_count": 39,
   "metadata": {},
   "outputs": [
    {
     "data": {
      "text/plain": [
       "0"
      ]
     },
     "execution_count": 39,
     "metadata": {},
     "output_type": "execute_result"
    }
   ],
   "source": [
    "side_of_plane(np.array([[2,3]]),np.array([0,0]))"
   ]
  },
  {
   "cell_type": "code",
   "execution_count": 40,
   "metadata": {},
   "outputs": [],
   "source": [
    "P1 = np.array([[1,1]])\n",
    "P2 = np.array([[1,-1]])\n",
    "P3 = np.array([[-1,-1]])\n",
    "P_l = [P1,P2,P3]\n",
    "\n",
    "v = np.array([[2,2]])"
   ]
  },
  {
   "cell_type": "code",
   "execution_count": 41,
   "metadata": {},
   "outputs": [],
   "source": [
    "def hash_multi_plane(P_l,v):\n",
    "    hash_val = 0\n",
    "    for i,P in enumerate(P_l):\n",
    "        side = side_of_plane(P,v)\n",
    "        hash_val += (2**i)*(1 if side >= 0 else 0)\n",
    "    \n",
    "    return hash_val"
   ]
  },
  {
   "cell_type": "code",
   "execution_count": 42,
   "metadata": {},
   "outputs": [
    {
     "data": {
      "text/plain": [
       "3"
      ]
     },
     "execution_count": 42,
     "metadata": {},
     "output_type": "execute_result"
    }
   ],
   "source": [
    "hash_multi_plane(P_l,v)"
   ]
  },
  {
   "cell_type": "code",
   "execution_count": 61,
   "metadata": {},
   "outputs": [
    {
     "name": "stdout",
     "output_type": "stream",
     "text": [
      "array([[ 0.16234247,  0.25722913],\n",
      "       [-1.27545586,  0.06400443],\n",
      "       [-1.06185662, -0.98936839],\n",
      "       [-0.45772323, -1.98418161]])\n"
     ]
    }
   ],
   "source": [
    "n_dims = 2\n",
    "n_planes = 4\n",
    "random_planes = np.random.normal(size=(n_planes,n_dims))\n",
    "pp.pprint(random_planes)"
   ]
  },
  {
   "cell_type": "code",
   "execution_count": 62,
   "metadata": {},
   "outputs": [],
   "source": [
    "v = np.array([[2,2]])"
   ]
  },
  {
   "cell_type": "code",
   "execution_count": 63,
   "metadata": {},
   "outputs": [],
   "source": [
    "def side_of_plane_multiplane(P_l,v):\n",
    "    dotprod = np.dot(P_l,v.T)\n",
    "    sign = np.sign(dotprod)\n",
    "    return sign"
   ]
  },
  {
   "cell_type": "code",
   "execution_count": 64,
   "metadata": {},
   "outputs": [
    {
     "data": {
      "text/plain": [
       "array([[[ 1]],\n",
       "\n",
       "       [[ 0]],\n",
       "\n",
       "       [[-1]]])"
      ]
     },
     "execution_count": 64,
     "metadata": {},
     "output_type": "execute_result"
    }
   ],
   "source": [
    "sides_l = side_of_plane_multiplane(P_l,v)\n",
    "sides_l"
   ]
  },
  {
   "cell_type": "code",
   "execution_count": 65,
   "metadata": {},
   "outputs": [],
   "source": [
    "def hash_multiplane_matrix(P_l,v,n_planes):\n",
    "    sides = side_of_plane_multiplane(P_l,v)\n",
    "    hash_val = 0\n",
    "    for i in range(n_planes):\n",
    "        sign = sides[i].item()\n",
    "        hash_val += (2**i)*(1 if sign>=0 else 0)\n",
    "\n",
    "    return hash_val"
   ]
  },
  {
   "cell_type": "code",
   "execution_count": 66,
   "metadata": {},
   "outputs": [
    {
     "data": {
      "text/plain": [
       "1"
      ]
     },
     "execution_count": 66,
     "metadata": {},
     "output_type": "execute_result"
    }
   ],
   "source": [
    "hash_multiplane_matrix(random_planes,v,n_planes)"
   ]
  },
  {
   "cell_type": "code",
   "execution_count": 67,
   "metadata": {},
   "outputs": [
    {
     "data": {
      "text/plain": [
       "array([-1,  1, -1])"
      ]
     },
     "execution_count": 67,
     "metadata": {},
     "output_type": "execute_result"
    }
   ],
   "source": [
    "word_embedding = {'I':np.array([1,0,1]),\n",
    "                  'love':np.array([-1,0,-1]),\n",
    "                  'learning':np.array([-1,1,-1])}\n",
    "\n",
    "words_in_doc = ['I','love','learning','nothing']\n",
    "doc_embedding = np.array([0,0,0])\n",
    "for word in words_in_doc:\n",
    "    doc_embedding += word_embedding.get(word,0)\n",
    "\n",
    "doc_embedding"
   ]
  },
  {
   "cell_type": "code",
   "execution_count": null,
   "metadata": {},
   "outputs": [],
   "source": []
  }
 ],
 "metadata": {
  "kernelspec": {
   "display_name": "Python 3",
   "language": "python",
   "name": "python3"
  },
  "language_info": {
   "codemirror_mode": {
    "name": "ipython",
    "version": 3
   },
   "file_extension": ".py",
   "mimetype": "text/x-python",
   "name": "python",
   "nbconvert_exporter": "python",
   "pygments_lexer": "ipython3",
   "version": "3.10.4"
  }
 },
 "nbformat": 4,
 "nbformat_minor": 2
}
