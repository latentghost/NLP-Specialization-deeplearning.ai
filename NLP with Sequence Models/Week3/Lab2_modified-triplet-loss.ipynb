{
 "cells": [
  {
   "cell_type": "code",
   "execution_count": 1,
   "metadata": {},
   "outputs": [],
   "source": [
    "import numpy as np\n",
    "import tensorflow as tf\n",
    "import pprint"
   ]
  },
  {
   "cell_type": "code",
   "execution_count": 2,
   "metadata": {},
   "outputs": [],
   "source": [
    "v1 = np.array([1, 2, 3], dtype=float)\n",
    "v2 = np.array([1, 2, 3.5], dtype=float)"
   ]
  },
  {
   "cell_type": "code",
   "execution_count": 3,
   "metadata": {},
   "outputs": [],
   "source": [
    "def cosine_similarity(v1, v2):\n",
    "    numerator = tf.math.reduce_sum(v1*v2)\n",
    "    denominator = tf.math.sqrt(tf.math.reduce_sum(v1*v1) * tf.math.reduce_sum(v2*v2))\n",
    "    return numerator / denominator"
   ]
  },
  {
   "cell_type": "code",
   "execution_count": 4,
   "metadata": {},
   "outputs": [
    {
     "name": "stdout",
     "output_type": "stream",
     "text": [
      "cosine similarity : 0.9974086507360697\n"
     ]
    }
   ],
   "source": [
    "print(\"cosine similarity :\", cosine_similarity(v1, v2).numpy())"
   ]
  },
  {
   "cell_type": "code",
   "execution_count": 5,
   "metadata": {},
   "outputs": [],
   "source": [
    "# Define the original vectors\n",
    "v1 = np.array([[1.0, 2.0, 3.0],\n",
    "               [9.0, 8.0, 7.0],\n",
    "               [-1.0, -4.0, -2.0],\n",
    "               [1.0, -7.0, 2.0]])\n",
    "\n",
    "v2 = np.vstack([v + np.random.normal(0, 2, 3) for v in v1])"
   ]
  },
  {
   "cell_type": "code",
   "execution_count": 6,
   "metadata": {},
   "outputs": [
    {
     "name": "stdout",
     "output_type": "stream",
     "text": [
      "Batch sizes match : True\n"
     ]
    }
   ],
   "source": [
    "b = len(v1)\n",
    "print(f\"Batch sizes match : {b == len(v2)}\")"
   ]
  },
  {
   "cell_type": "code",
   "execution_count": 7,
   "metadata": {},
   "outputs": [
    {
     "data": {
      "text/plain": [
       "array([[ 0.67526083,  0.26899885, -0.34917056,  0.20389224],\n",
       "       [ 0.84512129,  0.98493566, -0.76265658, -0.16496892],\n",
       "       [-0.85824594, -0.99554314,  0.81000621,  0.24476757],\n",
       "       [ 0.01974567,  0.09810441,  0.38876824,  0.88953395]])"
      ]
     },
     "execution_count": 7,
     "metadata": {},
     "output_type": "execute_result"
    }
   ],
   "source": [
    "sim_1 = np.zeros([b, b])\n",
    "for row in range(0, sim_1.shape[0]):\n",
    "    for col in range(0, sim_1.shape[1]):\n",
    "        sim_1[row, col] = cosine_similarity(v2[row], v1[col]).numpy()\n",
    "sim_1"
   ]
  },
  {
   "cell_type": "code",
   "execution_count": 8,
   "metadata": {},
   "outputs": [],
   "source": [
    "def norm(x):\n",
    "    return tf.math.l2_normalize(x, axis=1)"
   ]
  },
  {
   "cell_type": "code",
   "execution_count": 9,
   "metadata": {},
   "outputs": [
    {
     "data": {
      "text/plain": [
       "array([[ 0.67526083,  0.26899885, -0.34917056,  0.20389224],\n",
       "       [ 0.84512129,  0.98493566, -0.76265658, -0.16496892],\n",
       "       [-0.85824594, -0.99554314,  0.81000621,  0.24476757],\n",
       "       [ 0.01974567,  0.09810441,  0.38876824,  0.88953395]])"
      ]
     },
     "execution_count": 9,
     "metadata": {},
     "output_type": "execute_result"
    }
   ],
   "source": [
    "# faster computation with vectorization\n",
    "sim_2 = tf.linalg.matmul(norm(v2), norm(v1), transpose_b=True).numpy()\n",
    "sim_2"
   ]
  },
  {
   "cell_type": "markdown",
   "metadata": {},
   "source": [
    "### Hard Negative Mining"
   ]
  },
  {
   "cell_type": "code",
   "execution_count": 10,
   "metadata": {},
   "outputs": [],
   "source": [
    "sim = sim_2\n",
    "b = sim.shape[0]"
   ]
  },
  {
   "cell_type": "code",
   "execution_count": 11,
   "metadata": {},
   "outputs": [
    {
     "data": {
      "text/plain": [
       "array([[0.67526083, 0.        , 0.        , 0.        ],\n",
       "       [0.        , 0.98493566, 0.        , 0.        ],\n",
       "       [0.        , 0.        , 0.81000621, 0.        ],\n",
       "       [0.        , 0.        , 0.        , 0.88953395]])"
      ]
     },
     "execution_count": 11,
     "metadata": {},
     "output_type": "execute_result"
    }
   ],
   "source": [
    "sim_ap = np.diag(sim)\n",
    "np.diag(sim_ap)"
   ]
  },
  {
   "cell_type": "code",
   "execution_count": 12,
   "metadata": {},
   "outputs": [
    {
     "data": {
      "text/plain": [
       "array([[ 0.        ,  0.26899885, -0.34917056,  0.20389224],\n",
       "       [ 0.84512129,  0.        , -0.76265658, -0.16496892],\n",
       "       [-0.85824594, -0.99554314,  0.        ,  0.24476757],\n",
       "       [ 0.01974567,  0.09810441,  0.38876824,  0.        ]])"
      ]
     },
     "execution_count": 12,
     "metadata": {},
     "output_type": "execute_result"
    }
   ],
   "source": [
    "sim_an = sim - np.diag(sim_ap)\n",
    "sim_an"
   ]
  },
  {
   "cell_type": "code",
   "execution_count": 13,
   "metadata": {},
   "outputs": [
    {
     "data": {
      "text/plain": [
       "array([[ 0.04124018],\n",
       "       [-0.0275014 ],\n",
       "       [-0.5363405 ],\n",
       "       [ 0.16887277]])"
      ]
     },
     "execution_count": 13,
     "metadata": {},
     "output_type": "execute_result"
    }
   ],
   "source": [
    "mean_neg = np.sum(sim_an, axis=1, keepdims=True) / (b - 1)\n",
    "mean_neg"
   ]
  },
  {
   "cell_type": "code",
   "execution_count": 14,
   "metadata": {},
   "outputs": [],
   "source": [
    "mask_1 = np.identity(b) == 1\n",
    "mask_2 = sim_an > sim_ap.reshape(b, 1)\n",
    "mask = mask_1 | mask_2\n",
    "\n",
    "sim_an_masked = np.copy(sim_an)\n",
    "sim_an_masked[mask] = -np.inf"
   ]
  },
  {
   "cell_type": "code",
   "execution_count": 15,
   "metadata": {},
   "outputs": [
    {
     "data": {
      "text/plain": [
       "array([[       -inf,  0.26899885, -0.34917056,  0.20389224],\n",
       "       [ 0.84512129,        -inf, -0.76265658, -0.16496892],\n",
       "       [-0.85824594, -0.99554314,        -inf,  0.24476757],\n",
       "       [ 0.01974567,  0.09810441,  0.38876824,        -inf]])"
      ]
     },
     "execution_count": 15,
     "metadata": {},
     "output_type": "execute_result"
    }
   ],
   "source": [
    "sim_an_masked"
   ]
  },
  {
   "cell_type": "code",
   "execution_count": 16,
   "metadata": {},
   "outputs": [
    {
     "data": {
      "text/plain": [
       "array([[0.26899885],\n",
       "       [0.84512129],\n",
       "       [0.24476757],\n",
       "       [0.38876824]])"
      ]
     },
     "execution_count": 16,
     "metadata": {},
     "output_type": "execute_result"
    }
   ],
   "source": [
    "closest_neg = np.max(sim_an_masked, axis=1, keepdims=True)\n",
    "closest_neg"
   ]
  },
  {
   "cell_type": "markdown",
   "metadata": {},
   "source": [
    "Same implementation but in Tensorflow"
   ]
  },
  {
   "cell_type": "code",
   "execution_count": 17,
   "metadata": {},
   "outputs": [
    {
     "data": {
      "text/plain": [
       "<tf.Tensor: shape=(4, 4), dtype=float64, numpy=\n",
       "array([[0.67526083, 0.        , 0.        , 0.        ],\n",
       "       [0.        , 0.98493566, 0.        , 0.        ],\n",
       "       [0.        , 0.        , 0.81000621, 0.        ],\n",
       "       [0.        , 0.        , 0.        , 0.88953395]])>"
      ]
     },
     "execution_count": 17,
     "metadata": {},
     "output_type": "execute_result"
    }
   ],
   "source": [
    "sim_ap = tf.linalg.diag_part(sim)\n",
    "tf.linalg.diag(sim_ap)"
   ]
  },
  {
   "cell_type": "code",
   "execution_count": 18,
   "metadata": {},
   "outputs": [
    {
     "data": {
      "text/plain": [
       "<tf.Tensor: shape=(4, 4), dtype=float64, numpy=\n",
       "array([[ 0.        ,  0.26899885, -0.34917056,  0.20389224],\n",
       "       [ 0.84512129,  0.        , -0.76265658, -0.16496892],\n",
       "       [-0.85824594, -0.99554314,  0.        ,  0.24476757],\n",
       "       [ 0.01974567,  0.09810441,  0.38876824,  0.        ]])>"
      ]
     },
     "execution_count": 18,
     "metadata": {},
     "output_type": "execute_result"
    }
   ],
   "source": [
    "sim_an = sim - tf.linalg.diag(sim_ap)\n",
    "sim_an"
   ]
  },
  {
   "cell_type": "code",
   "execution_count": 19,
   "metadata": {},
   "outputs": [
    {
     "data": {
      "text/plain": [
       "<tf.Tensor: shape=(4, 1), dtype=float64, numpy=\n",
       "array([[ 0.04124018],\n",
       "       [-0.0275014 ],\n",
       "       [-0.5363405 ],\n",
       "       [ 0.16887277]])>"
      ]
     },
     "execution_count": 19,
     "metadata": {},
     "output_type": "execute_result"
    }
   ],
   "source": [
    "mean_neg = tf.math.reduce_sum(sim_an, axis=1) / (b - 1)\n",
    "tf.expand_dims(mean_neg,1)"
   ]
  },
  {
   "cell_type": "code",
   "execution_count": 20,
   "metadata": {},
   "outputs": [],
   "source": [
    "mask_1 = tf.eye(b)==1\n",
    "mask_2 = sim_an > tf.expand_dims(sim_ap,1)\n",
    "mask = tf.cast((mask_1 | mask_2), tf.float64)\n",
    "sim_an_masked = sim_an - 2.0*mask"
   ]
  },
  {
   "cell_type": "code",
   "execution_count": 21,
   "metadata": {},
   "outputs": [
    {
     "data": {
      "text/plain": [
       "<tf.Tensor: shape=(4, 4), dtype=float64, numpy=\n",
       "array([[-2.        ,  0.26899885, -0.34917056,  0.20389224],\n",
       "       [ 0.84512129, -2.        , -0.76265658, -0.16496892],\n",
       "       [-0.85824594, -0.99554314, -2.        ,  0.24476757],\n",
       "       [ 0.01974567,  0.09810441,  0.38876824, -2.        ]])>"
      ]
     },
     "execution_count": 21,
     "metadata": {},
     "output_type": "execute_result"
    }
   ],
   "source": [
    "sim_an_masked"
   ]
  },
  {
   "cell_type": "code",
   "execution_count": 23,
   "metadata": {},
   "outputs": [
    {
     "data": {
      "text/plain": [
       "<tf.Tensor: shape=(4, 1), dtype=float64, numpy=\n",
       "array([[0.26899885],\n",
       "       [0.84512129],\n",
       "       [0.24476757],\n",
       "       [0.38876824]])>"
      ]
     },
     "execution_count": 23,
     "metadata": {},
     "output_type": "execute_result"
    }
   ],
   "source": [
    "closest_neg = tf.math.reduce_max(sim_an_masked, axis=1)\n",
    "tf.expand_dims(closest_neg,1)"
   ]
  },
  {
   "cell_type": "markdown",
   "metadata": {},
   "source": [
    "### Triplet Loss"
   ]
  },
  {
   "cell_type": "code",
   "execution_count": 27,
   "metadata": {},
   "outputs": [
    {
     "data": {
      "text/plain": [
       "<tf.Tensor: shape=(), dtype=float64, numpy=0.4539236582210886>"
      ]
     },
     "execution_count": 27,
     "metadata": {},
     "output_type": "execute_result"
    }
   ],
   "source": [
    "alpha = 0.5\n",
    "\n",
    "l_1 = tf.maximum(mean_neg - sim_ap + alpha, 0)\n",
    "l_2 = tf.maximum(closest_neg - sim_ap + alpha, 0)\n",
    "l_full = l_1 + l_2\n",
    "cost = tf.math.reduce_sum(l_full)\n",
    "cost"
   ]
  }
 ],
 "metadata": {
  "kernelspec": {
   "display_name": "Python 3",
   "language": "python",
   "name": "python3"
  },
  "language_info": {
   "codemirror_mode": {
    "name": "ipython",
    "version": 3
   },
   "file_extension": ".py",
   "mimetype": "text/x-python",
   "name": "python",
   "nbconvert_exporter": "python",
   "pygments_lexer": "ipython3",
   "version": "3.10.4"
  }
 },
 "nbformat": 4,
 "nbformat_minor": 2
}
