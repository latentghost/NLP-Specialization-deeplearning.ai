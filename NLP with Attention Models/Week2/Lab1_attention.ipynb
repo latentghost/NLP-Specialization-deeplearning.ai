{
 "cells": [
  {
   "cell_type": "code",
   "execution_count": 9,
   "metadata": {},
   "outputs": [],
   "source": [
    "import os\n",
    "os.environ['TF_CPP_MIN_LOG_LEVEL'] = '3'\n",
    "\n",
    "import sys\n",
    "\n",
    "import tensorflow as tf\n",
    "\n",
    "import textwrap\n",
    "wrapper = textwrap.TextWrapper(width=70)"
   ]
  },
  {
   "cell_type": "code",
   "execution_count": 10,
   "metadata": {},
   "outputs": [],
   "source": [
    "def display_tensor(t, name):\n",
    "    \"\"\"Display shape and tensor\"\"\"\n",
    "    print(f'{name} shape: {t.shape}\\n')\n",
    "    print(f'{t}\\n')"
   ]
  },
  {
   "cell_type": "markdown",
   "metadata": {},
   "source": [
    "Mask has the same shape as QK<sup>T</sup>"
   ]
  },
  {
   "cell_type": "code",
   "execution_count": 11,
   "metadata": {},
   "outputs": [
    {
     "name": "stdout",
     "output_type": "stream",
     "text": [
      "query shape: (2, 3)\n",
      "\n",
      "[[1. 0. 0.]\n",
      " [0. 1. 0.]]\n",
      "\n",
      "key shape: (2, 3)\n",
      "\n",
      "[[1. 2. 3.]\n",
      " [4. 5. 6.]]\n",
      "\n",
      "value shape: (2, 3)\n",
      "\n",
      "[[0. 1. 0.]\n",
      " [1. 0. 1.]]\n",
      "\n",
      "mask shape: (2, 2)\n",
      "\n",
      "[[1. 0.]\n",
      " [1. 1.]]\n",
      "\n"
     ]
    }
   ],
   "source": [
    "q = tf.constant([[1.0, 0.0, 0.0], [0.0, 1.0, 0.0]])\n",
    "display_tensor(q, 'query')\n",
    "k = tf.constant([[1.0, 2.0, 3.0], [4.0, 5.0, 6.0]])\n",
    "display_tensor(k, 'key')\n",
    "v = tf.constant([[0.0, 1.0, 0.0], [1.0, 0.0, 1.0]])\n",
    "display_tensor(v, 'value')\n",
    "m = tf.constant([[1.0, 0.0], [1.0, 1.0]])\n",
    "display_tensor(m, 'mask')"
   ]
  },
  {
   "cell_type": "markdown",
   "metadata": {},
   "source": [
    "### Scaled Dot-Product Attention"
   ]
  },
  {
   "cell_type": "code",
   "execution_count": 12,
   "metadata": {},
   "outputs": [],
   "source": [
    "def dot_product_attention(q, k, v, mask, scale=True):\n",
    "    \"\"\"\n",
    "    Calculate the attention weights.\n",
    "      q, k, v must have matching leading dimensions.\n",
    "      k, v must have matching penultimate dimension, i.e.: seq_len_k = seq_len_v.\n",
    "      The mask has different shapes depending on its type(padding or look ahead) \n",
    "      but it must be broadcastable for addition.\n",
    "\n",
    "    Arguments:\n",
    "        q (tf.Tensor): query of shape (..., seq_len_q, depth)\n",
    "        k (tf.Tensor): key of shape (..., seq_len_k, depth)\n",
    "        v (tf.Tensor): value of shape (..., seq_len_v, depth_v)\n",
    "        mask (tf.Tensor): mask with shape broadcastable \n",
    "              to (..., seq_len_q, seq_len_k). Defaults to None.\n",
    "        scale (boolean): if True, the result is a scaled dot-product attention. Defaults to True.\n",
    "\n",
    "    Returns:\n",
    "        attention_output (tf.Tensor): the result of the attention function\n",
    "    \"\"\"\n",
    "    \n",
    "    # Multiply q and k transposed.\n",
    "    matmul_qk = tf.matmul(q, k, transpose_b=True)\n",
    "\n",
    "    # scale matmul_qk with the square root of dk\n",
    "    if scale:\n",
    "        dk = tf.cast(tf.shape(k)[-1], tf.float32)\n",
    "        matmul_qk = matmul_qk / tf.math.sqrt(dk)\n",
    "    # add the mask to the scaled tensor (causal attention)\n",
    "    if mask is not None:\n",
    "        matmul_qk = matmul_qk + (1. - mask) * -1e9 \n",
    "\n",
    "    # softmax is normalized on the last axis so that the scores add up to 1.\n",
    "    attention_weights = tf.keras.activations.softmax(matmul_qk)\n",
    "\n",
    "    # Multiply the attention weights by v to produce the context vector\n",
    "    attention_output = tf.matmul(attention_weights, v)\n",
    "\n",
    "    return attention_output"
   ]
  },
  {
   "cell_type": "markdown",
   "metadata": {},
   "source": [
    "### Masked Self Attention"
   ]
  },
  {
   "cell_type": "code",
   "execution_count": 13,
   "metadata": {},
   "outputs": [],
   "source": [
    "def masked_self_attention(q, k, v, scale=True):\n",
    "    \"\"\" Masked dot product self attention.\n",
    "    Args:\n",
    "        q (numpy.ndarray): queries.\n",
    "        k (numpy.ndarray): keys.\n",
    "        v (numpy.ndarray): values.\n",
    "    Returns:\n",
    "        numpy.ndarray: masked dot product self attention tensor.\n",
    "    \"\"\"\n",
    "    \n",
    "    # Size of the penultimate dimension of the query\n",
    "    mask_size = q.shape[-2]\n",
    "\n",
    "    # Creates the mask\n",
    "    mask = tf.experimental.numpy.tril(tf.ones((mask_size, mask_size)))  \n",
    "    \n",
    "    return dot_product_attention(q, k, v, mask, scale=scale)"
   ]
  },
  {
   "cell_type": "code",
   "execution_count": 14,
   "metadata": {},
   "outputs": [
    {
     "name": "stdout",
     "output_type": "stream",
     "text": [
      "result shape: (2, 3)\n",
      "\n",
      "[[0.         1.         0.        ]\n",
      " [0.8496746  0.15032543 0.8496746 ]]\n",
      "\n"
     ]
    }
   ],
   "source": [
    "result = masked_self_attention(q, k, v)\n",
    "display_tensor(result, 'result')"
   ]
  },
  {
   "cell_type": "markdown",
   "metadata": {},
   "source": [
    "### Bidirectional Self Attention"
   ]
  },
  {
   "cell_type": "code",
   "execution_count": 15,
   "metadata": {},
   "outputs": [],
   "source": [
    "def bidirectional_self_attention(q, k, v, scale=True):\n",
    "    \"\"\" Bidirectional dot product self attention.\n",
    "    Args:\n",
    "        q (numpy.ndarray): queries.\n",
    "        k (numpy.ndarray): keys.\n",
    "        v (numpy.ndarray): values.\n",
    "    Returns:\n",
    "        numpy.ndarray: bidirectional dot product self attention tensor.\n",
    "    \"\"\"\n",
    "    # Creates the mask as None\n",
    "    mask = None\n",
    "    \n",
    "    return dot_product_attention(q, k, v, mask, scale=scale)"
   ]
  },
  {
   "cell_type": "code",
   "execution_count": 17,
   "metadata": {},
   "outputs": [
    {
     "name": "stdout",
     "output_type": "stream",
     "text": [
      "result shape: (2, 3)\n",
      "\n",
      "[[0.8496745  0.15032545 0.8496745 ]\n",
      " [0.8496746  0.15032543 0.8496746 ]]\n",
      "\n"
     ]
    }
   ],
   "source": [
    "result2 = bidirectional_self_attention(q, k, v)\n",
    "display_tensor(result2, 'result')"
   ]
  }
 ],
 "metadata": {
  "kernelspec": {
   "display_name": "Python 3",
   "language": "python",
   "name": "python3"
  },
  "language_info": {
   "codemirror_mode": {
    "name": "ipython",
    "version": 3
   },
   "file_extension": ".py",
   "mimetype": "text/x-python",
   "name": "python",
   "nbconvert_exporter": "python",
   "pygments_lexer": "ipython3",
   "version": "3.10.4"
  }
 },
 "nbformat": 4,
 "nbformat_minor": 2
}
